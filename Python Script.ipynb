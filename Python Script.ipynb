{
 "cells": [
  {
   "cell_type": "code",
   "execution_count": 2,
   "metadata": {},
   "outputs": [],
   "source": [
    "from textblob import TextBlob"
   ]
  },
  {
   "cell_type": "code",
   "execution_count": 6,
   "metadata": {},
   "outputs": [],
   "source": [
    "import pandas as pd"
   ]
  },
  {
   "cell_type": "code",
   "execution_count": 7,
   "metadata": {},
   "outputs": [],
   "source": [
    "from sklearn.model_selection import train_test_split"
   ]
  },
  {
   "cell_type": "code",
   "execution_count": 8,
   "metadata": {},
   "outputs": [],
   "source": [
    "#assigning review to json file. setting how many lines we want to read from the file at a time#\n",
    "review = pd.read_json('review.json',lines=True, chunksize=1000)"
   ]
  },
  {
   "cell_type": "code",
   "execution_count": 9,
   "metadata": {},
   "outputs": [],
   "source": [
    "#assigning subset as the first n amount of lines we are looking at#\n",
    "for r in review:\n",
    "    subset = r\n",
    "    break"
   ]
  },
  {
   "cell_type": "code",
   "execution_count": 10,
   "metadata": {},
   "outputs": [
    {
     "data": {
      "text/plain": [
       "(1000, 9)"
      ]
     },
     "execution_count": 10,
     "metadata": {},
     "output_type": "execute_result"
    }
   ],
   "source": [
    "#displays the shape of the data (rows,columns)#\n",
    "subset.shape"
   ]
  },
  {
   "cell_type": "code",
   "execution_count": 11,
   "metadata": {},
   "outputs": [
    {
     "data": {
      "text/plain": [
       "business_id            object\n",
       "cool                    int64\n",
       "date           datetime64[ns]\n",
       "funny                   int64\n",
       "review_id              object\n",
       "stars                   int64\n",
       "text                   object\n",
       "useful                  int64\n",
       "user_id                object\n",
       "dtype: object"
      ]
     },
     "execution_count": 11,
     "metadata": {},
     "output_type": "execute_result"
    }
   ],
   "source": [
    "#displays the different columns in the data#\n",
    "subset.dtypes"
   ]
  },
  {
   "cell_type": "code",
   "execution_count": 12,
   "metadata": {},
   "outputs": [
    {
     "data": {
      "text/plain": [
       "<bound method NDFrame.head of                 business_id  cool                date  funny  \\\n",
       "0    ujmEBvifdJM6h6RLv4wQIg     0 2013-05-07 04:34:36      1   \n",
       "1    NZnhc2sEQy3RmzKTZnqtwQ     0 2017-01-14 21:30:33      0   \n",
       "2    WTqjgwHlXbSFevF32_DJVw     0 2016-11-09 20:09:03      0   \n",
       "3    ikCg8xy5JIg_NGPx-MSIDA     0 2018-01-09 20:56:38      0   \n",
       "4    b1b1eb3uo-w561D0ZfCEiQ     0 2018-01-30 23:07:38      0   \n",
       "5    eU_713ec6fTGNO4BegRaww     0 2013-01-20 13:25:59      0   \n",
       "6    3fw2X5bZYeW9xCz_zGhOHg     5 2016-05-07 01:21:02      4   \n",
       "7    zvO-PJCpNk4fgAVUnExYAA     1 2010-10-05 19:12:35      1   \n",
       "8    b2jN2mm9Wf3RcrZCgfo1cg     0 2015-01-18 14:04:18      0   \n",
       "9    oxwGyA17NL6c5t1Etg5WgQ     1 2012-02-29 21:52:43      0   \n",
       "10   8mIrX_LrOnAqWsB5JrOojQ     0 2011-11-30 02:11:15      0   \n",
       "11   mRUVMJkUGxrByzMQ2MuOpA     0 2017-12-15 23:27:08      1   \n",
       "12   FxLfqxdYPA6Z85PFKaqLrg     0 2016-05-07 01:36:53      0   \n",
       "13   LUN6swQYa4xJKaM_UEUOEw     0 2018-04-27 20:25:26      0   \n",
       "14   AakkkTuGZA2KBodKi2_u8A     0 2012-07-16 00:37:14      1   \n",
       "15   YvrylyuWgbP90RgMqZQVnQ     0 2017-04-07 21:27:49      0   \n",
       "16   NyLYY8q1-H3hfsTwuwLPCg     0 2015-01-03 22:47:34      0   \n",
       "17   cHdJXLlKNWixBXpDwEGb_A     1 2015-04-01 16:30:00      7   \n",
       "18   6lj2BJ4tJeu7db5asGHQ4w     0 2017-05-26 01:23:19      0   \n",
       "19   y-Iw6dZflNix4BdwIyTNGA     0 2014-06-27 21:19:23      0   \n",
       "20   qx6WhZ42eDKmBchZDax4dQ     0 2017-03-27 01:14:37      0   \n",
       "21   Mem13A3C202RzT53npn4NA     9 2017-05-13 10:41:43      6   \n",
       "22   I4Nr-MVc26qWr08-S3Q1ow     0 2016-01-17 05:26:22      0   \n",
       "23   d_L-rfS1vT3JMzgCUGtiow     0 2016-07-25 03:57:19      0   \n",
       "24   Sfc8Haz2Yri8Mo1L0E0TsA     0 2012-11-06 03:41:43      0   \n",
       "25   FQ1wBQb3aNeRMThSQEV0Qg     0 2013-12-07 02:32:45      0   \n",
       "26   hd5xm20tfSa70-6UqD9-bg     1 2014-08-10 22:07:35      1   \n",
       "27   Gyrez6K8f1AyR7dzW9fvAw     1 2013-12-28 22:28:08      0   \n",
       "28   9nTF596jDvBBia2EXXiOOg     0 2014-04-19 15:03:17      0   \n",
       "29   SNL64axQhCO6Z7ohcWg3wA     0 2017-02-09 03:43:25      0   \n",
       "..                      ...   ...                 ...    ...   \n",
       "970  mss-LiOfL1vtoNo3WoEoJw     1 2016-07-14 20:41:21      1   \n",
       "971  vsJVJthtiw-5kZ14CgQdDQ     3 2015-04-15 05:56:03      1   \n",
       "972  CuT2Xh3vAYvRfxUWlUo6oA     0 2015-08-30 14:38:32      0   \n",
       "973  SgG5E7PUrCIsEMP0BVSlTg     2 2013-10-03 11:36:25      0   \n",
       "974  C6uYx1g7TxmuzjfNtxK86w     4 2015-06-08 18:27:37      2   \n",
       "975  ANmMChurdD2V1KpkMf60Rw     0 2014-09-25 08:55:35      0   \n",
       "976  FQ9C3ZF0NOfRyvFdx-J5Wg     2 2012-07-16 02:48:35      0   \n",
       "977  JO5_Frcbp9J732VNn-I3Ew     0 2015-08-17 19:44:18      0   \n",
       "978  thlAnPN1ApoNxSnok_fcvA     0 2018-02-11 04:52:54      0   \n",
       "979  x1Fg-pxoCq-BDhklj0GnRw     0 2014-08-24 19:13:23      1   \n",
       "980  zM7W3BSklPuDtUD9t7fdDQ     0 2013-05-28 23:54:53      0   \n",
       "981  pyZkGdnTwpRh5tFWfdmQEg     1 2015-12-20 22:38:07      0   \n",
       "982  ePt0qmZgU-fjqMoM1M2U3Q     0 2010-05-14 17:13:11      0   \n",
       "983  xh_ByBcQAU40VlbeqH-YkQ     1 2017-03-27 02:21:23      0   \n",
       "984  vdloJPM3bSpQTMlwdFek2A     1 2015-08-06 22:33:12      3   \n",
       "985  AakkkTuGZA2KBodKi2_u8A     0 2014-02-24 01:45:02      0   \n",
       "986  OyTSs71uXNDeC14zsPA5jw     0 2017-09-09 01:34:39      0   \n",
       "987  05OXAAq2RQ2NXTkwAJ1H-g     0 2016-06-11 21:08:48      0   \n",
       "988  f_eiOrEcMnkHB7GvQVOHkQ     0 2013-01-27 18:15:16      0   \n",
       "989  hh-N1r9O1JpvzGw1mp0bKw     0 2015-09-23 23:01:54      0   \n",
       "990  xchirC94ZWa856QFqWSYmQ     1 2013-12-07 04:32:09      0   \n",
       "991  r8764MtYyt8JhxMvrfM_xQ     0 2014-10-11 03:53:53      0   \n",
       "992  slJeUU_jXJdts1idKn9mGQ     0 2014-08-24 20:41:43      0   \n",
       "993  bzdb1jJ1j8Qn_RVHY97FnA     0 2011-10-27 13:11:48      0   \n",
       "994  2JqR8KKTul5NevLrZKfT_g     0 2018-01-21 06:31:27      0   \n",
       "995  2YlUn3s132hNq5ueGeIiJg     0 2011-02-13 20:47:40      0   \n",
       "996  A2rZyprdbtKvSzhd2yK_dQ     0 2016-07-14 18:52:59      0   \n",
       "997  yHkGRHz_fW4lxBbYlMrojQ     0 2016-02-11 22:45:51      0   \n",
       "998  MGsV9nuGOr9fxtzJPwq8Ig     1 2012-11-06 03:33:46      0   \n",
       "999  G7sVtpD6aqpuUB4F3LEG_w     0 2015-07-03 19:01:30      0   \n",
       "\n",
       "                  review_id  stars  \\\n",
       "0    Q1sbwvVQXV2734tPgoKj4Q      1   \n",
       "1    GJXCdrto3ASJOqKeVWPi6Q      5   \n",
       "2    2TzJjDVDEuAW6MR5Vuc1ug      5   \n",
       "3    yi0R0Ugj_xUx_Nek0-_Qig      5   \n",
       "4    11a8sVPMUFtaC7_ABRkmtw      1   \n",
       "5    fdiNeiN_hoCxCMy2wTRW9g      4   \n",
       "6    G7XHMxG0bx9oBJNECG4IFg      3   \n",
       "7    8e9HxxLjjqc9ez5ezzN7iQ      1   \n",
       "8    qrffudO73zsslZbe8B9D3Q      2   \n",
       "9    RS_GTIT6836bCaPy637kNQ      3   \n",
       "10   kbtscdyz6lvrtGjD1quQTg      4   \n",
       "11   -I5umRTkhw15RqpKMl_o1Q      1   \n",
       "12   Z7wgXp98wYB57QdRY3HQ3w      4   \n",
       "13   qlXw1JQ0UodW7qrmVgwCXw      4   \n",
       "14   JVcjMhlavKKn3UIt9p9OXA      1   \n",
       "15   svK3nBU7Rk8VfGorlrN52A      5   \n",
       "16   1wVA2-vQIuW_ClmXkDxqMQ      4   \n",
       "17   6BnQwlxRn7ZuWdzninM9sQ      3   \n",
       "18   rEITo90tpyKmEfNDp3Ou3A      5   \n",
       "19   4bUyL7lzoWzDZaJETAKREg      3   \n",
       "20   Amo5gZBvCuPc_tZNpHwtsA      5   \n",
       "21   IPw8yWiyqnfBzzWmypUHgg      5   \n",
       "22   IByf6mVY0WA838XNSh-5MA      4   \n",
       "23   S337tATeouQJdoPYyir29w      5   \n",
       "24   D_UvaenM25iNd6aehTZ0MA      5   \n",
       "25   I9HBDyzCqLhTYHCAZIFZQQ      5   \n",
       "26   W1wbNaUnbMy4b9QqY3_SAg      1   \n",
       "27   qm97yMwREr7BKkexlwLFbg      5   \n",
       "28   1daGBpea0sleayFeeXuoYw      1   \n",
       "29   DAC4zWY2ZMa1vxpN9RrDvA      1   \n",
       "..                      ...    ...   \n",
       "970  xQjJyFH0CobaHThR5iRm7A      5   \n",
       "971  AOfwC_Y7-Nh2MYZEzaDkNg      5   \n",
       "972  6hiDHa2PXEz_Sc3LeW8arA      5   \n",
       "973  ilkuxI6oH3s1dEYW_Kxysw      5   \n",
       "974  N7LNADIepjI16Yb5OSIlKQ      5   \n",
       "975  _Yl63o9IH-V9qWyf9N3NKA      3   \n",
       "976  zC0JQ6wuGLupi0l69b6-aA      3   \n",
       "977  u_2quQ4qz98pnER3HCvKgw      1   \n",
       "978  8d9AkhyrNlomzXjKo28nJQ      5   \n",
       "979  RdjZ8eyjmIg7_kkgfcwXlQ      5   \n",
       "980  UtCkrU4lEEmSV4nh-3-XDQ      4   \n",
       "981  0_umWDa2L8AOYY3d3MzIww      5   \n",
       "982  VVAt1d3XNGb4-O_QLAN4Bg      4   \n",
       "983  EmDJPXFBhR3FOz8olSLNTg      5   \n",
       "984  Z6CTk9Vo-iEgfrYuBsKxyg      3   \n",
       "985  vKhtzhPUz9RJbllyvHm3qA      3   \n",
       "986  EAL4ZGShcPQ6ji-TYzqUDw      5   \n",
       "987  9Hjlh3S4asYeOucbCh6cKQ      1   \n",
       "988  fCFJPFXy8K6hcGbx9Fn6pg      2   \n",
       "989  elavXdxLb55xWc_JXqGGyA      4   \n",
       "990  6YqQIfZUhJcQvJdc6Ydlpw      5   \n",
       "991  CqMNjtG0hNZGhDw4RDE-zw      2   \n",
       "992  3thaCxs-FeGagUuXWwy_2A      3   \n",
       "993  ZrQ6PqgZZOcaH8pDlil1ww      2   \n",
       "994  C4xuo7_PxnHiQbq8iw52Yg      3   \n",
       "995  soFCOKFo-YIX2kFuyb6wtw      4   \n",
       "996  fiM-q3Jhk0vtq-m-MfE5MQ      2   \n",
       "997  nSve1lFDXNMCkboG-bRwwQ      5   \n",
       "998  erKU7-nNuaO3WD1rkgE_aQ      4   \n",
       "999  VcBo0OZVwTmMh278aakFUg      4   \n",
       "\n",
       "                                                  text  useful  \\\n",
       "0    Total bill for this horrible service? Over $8G...       6   \n",
       "1    I *adore* Travis at the Hard Rock's new Kelly ...       0   \n",
       "2    I have to say that this office really has it t...       3   \n",
       "3    Went in for a lunch. Steak sandwich was delici...       0   \n",
       "4    Today was my second out of three sessions I ha...       7   \n",
       "5    I'll be the first to admit that I was not exci...       0   \n",
       "6    Tracy dessert had a big name in Hong Kong and ...       5   \n",
       "7    This place has gone down hill.  Clearly they h...       3   \n",
       "8    I was really looking forward to visiting after...       1   \n",
       "9    It's a giant Best Buy with 66 registers.  I do...       1   \n",
       "10   Like walking back in time, every Saturday morn...       0   \n",
       "11   Walked in around 4 on a Friday afternoon, we s...       0   \n",
       "12   Wow. So surprised at the one and two star revi...       0   \n",
       "13   Michael from Red Carpet VIP is amazing ! I rea...       0   \n",
       "14   I cannot believe how things have changed in 3 ...       1   \n",
       "15   You can't really find anything wrong with this...       0   \n",
       "16   Great lunch today. Staff was very helpful in a...       0   \n",
       "17   I love chinese food and I love mexican food. W...       1   \n",
       "18   We've been a huge Slim's fan since they opened...       0   \n",
       "19   Good selection of classes of beers and mains. ...       0   \n",
       "20   Our family LOVES the food here. Quick, friendl...       1   \n",
       "21   If you are looking for the best pierogies in P...       9   \n",
       "22   The food is always good and the prices are rea...       0   \n",
       "23   Pick any meat on the planet and the chef will ...       0   \n",
       "24   Great food, great service. Obviously fried chi...       0   \n",
       "25   PlumbSmart provided superior service from begi...       4   \n",
       "26   Unfortunately, I must recommend not to conduct...       7   \n",
       "27   their pettuccine was fresh-made in the morning...       0   \n",
       "28   if i can give this place no stars i would, i o...       1   \n",
       "29   This review is in regards to our experience wa...       0   \n",
       "..                                                 ...     ...   \n",
       "970  Love this hidden gem!  The food is excellent, ...       1   \n",
       "971  Active Renter manages all my property in Phoen...       6   \n",
       "972  Great beer.Matt Cole has matured into a great ...       0   \n",
       "973  Very pleased with everything I've bought here:...      10   \n",
       "974  It's pretty rare for me to write fast food rev...       2   \n",
       "975  This Gold's is a pretty good gym..for the pric...       0   \n",
       "976  I'd come here for dinner before and had a grea...       6   \n",
       "977  No stars.. yes no stars... (the app made me se...       1   \n",
       "978  I had heard that this place has very good brea...       1   \n",
       "979  Amazing! We moved to a new house and wanted to...       1   \n",
       "980  I've been there twice. The first time I got a ...       1   \n",
       "981  We have been searching for a good Chinese rest...       1   \n",
       "982  A co-worker of mine kept talking about Tottie'...       0   \n",
       "983  PVSEC was amazing when our family dog was atta...       2   \n",
       "984  Food is still excellent! Service is still Meh!...       1   \n",
       "985  Pretty good, food,, about the same as other vi...       0   \n",
       "986  Delicious. Offcourse fruity but its about the ...       0   \n",
       "987  We just recently purchased a house with a pool...       1   \n",
       "988  Very slow and incompetent staff. Food is okay,...       0   \n",
       "989  Good food and nice clean place ... I ate the \"...       0   \n",
       "990  I love Southview, and I don't think I'd ever s...       1   \n",
       "991  I was really disappointed with my most recent ...       0   \n",
       "992  Clean and comfortable. Nice hot breakfast avai...       0   \n",
       "993  I feel like Friday's food menu has gotten wors...       1   \n",
       "994  Had a groupon so it was a good price.\\nVariety...       0   \n",
       "995  We ate there yesterday for the first time. My ...       0   \n",
       "996  I have never waited LESS THAN forty five minut...       0   \n",
       "997  I am short. Pants are always waaaay too long. ...       0   \n",
       "998  Great ambiance, great food, although their pol...       2   \n",
       "999  Excellente place que vous passiez juste prendr...       0   \n",
       "\n",
       "                    user_id  \n",
       "0    hG7b0MtEbXx5QzbzE6C_VA  \n",
       "1    yXQM5uF2jS6es16SJzNHfg  \n",
       "2    n6-Gk65cPZL6Uz8qRm3NYw  \n",
       "3    dacAIZ6fTM6mqwW5uxkskg  \n",
       "4    ssoyf2_x0EQMed6fgHeMyQ  \n",
       "5    w31MKYsNFMrjhWxxAb5wIw  \n",
       "6    jlu4CztcSxrKx56ba1a5AQ  \n",
       "7    d6xvYpyzcfbF_AZ8vMB7QA  \n",
       "8    sG_h0dIzTKWa3Q6fmb4u-g  \n",
       "9    nMeCE5-xsdleyxYuNZ_7rA  \n",
       "10   FIk4lQQu1eTe2EpzQ4xhBA  \n",
       "11   -mA3-1mN4JIEkqOtdbNXCQ  \n",
       "12   GYNnVehQeXjty0xH7-6Fhw  \n",
       "13   bAhqAPoWaZYcyYi7bs024Q  \n",
       "14   TpyOT5E16YASd7EWjLQlrw  \n",
       "15   NJlxGtouq06hhC7sS2ECYw  \n",
       "16   86J5DwcFk4f4In1Vxe2TvA  \n",
       "17   JSrP-dUmLlwZiI7Dp3PQ2A  \n",
       "18   6Fz_nus_OG4gar721OKgZA  \n",
       "19   _N7Ndn29bpll_961oPeEfw  \n",
       "20   DzZ7piLBF-WsJxqosfJgtA  \n",
       "21   5JVY32_bmTBfIGpCCsnAfw  \n",
       "22   3CJUJILq7CLHk_9OrvpvQg  \n",
       "23   2mxBNBeFrgDszqGS5tdEHA  \n",
       "24   8NwU4TRsD3S6gIfBqFzDMQ  \n",
       "25   vXZeHaLvdfCPATz5BDavow  \n",
       "26   vDr8hBNYigiY70fk1kF5iQ  \n",
       "27   TTRVdTXKcq-xn6-1IWbwEw  \n",
       "28   q3GeSW9dWN9r_ocqFkhrvg  \n",
       "29   yxyRt-zoh_A6PMThX-h9Vw  \n",
       "..                      ...  \n",
       "970  eYQ-BWQNUt0MiRqTrB37YA  \n",
       "971  v7g23Tg8UKJC28Io5RfeXg  \n",
       "972  G7UL-42So8dS1hPwrHG1Bg  \n",
       "973  _oxSgMz5Ryfs0NQFqy56Cw  \n",
       "974  NjNJ1JLnMlOfnDI6Oz6Qew  \n",
       "975  UKGCebFD5NHUIUMNKgKpxQ  \n",
       "976  fjNNUJS0dtMr7W0hHMiNVw  \n",
       "977  8058DMYDLzQlnhtNb5yRog  \n",
       "978  3D2KdvX-Ppe2cy6zz1WiRA  \n",
       "979  Q5VObjp0WAyLbvYceX5CoA  \n",
       "980  9JHuo0L8EmJqBzG2cduyeg  \n",
       "981  guwhE7pICaAzCF0eQI2pPw  \n",
       "982  50rmpCUVXvaN1mASIj72kg  \n",
       "983  lsLuVKmdh45yommr53zfRg  \n",
       "984  kZGPhhKHP-ziJ5ve7k08ew  \n",
       "985  G-9ujgKmc1J2k7HSqXszsw  \n",
       "986  DDIMiC69en1Gl3t7EM8MQQ  \n",
       "987  HNckQDlhYRICFCTA6AmPlw  \n",
       "988  PLjruA-EMskWfirBU8aGUg  \n",
       "989  pu98xbmekZOrQAEHqNV5zA  \n",
       "990  n_zJNVFWUwyzryuFf1v9pw  \n",
       "991  _Jg-IA0M-GSjBlGu-wmejg  \n",
       "992  nIFHIllnkJ1vXZlUFbKPHQ  \n",
       "993  xtwoOTTOuZrXj4GQtsueuA  \n",
       "994  MopyJvrcBSgQYfyA4wyP7w  \n",
       "995  WFP_CgkAjYpvUBDa01GMlA  \n",
       "996  XtEbY-1tMhOiQFYUVTNWpQ  \n",
       "997  WXpuMCjbw1ewydDjW5zJsg  \n",
       "998  A-IkCqnYosZa49XD9qiSww  \n",
       "999  PV0Rp_Qh1YCIP0192e4ewg  \n",
       "\n",
       "[1000 rows x 9 columns]>"
      ]
     },
     "execution_count": 12,
     "metadata": {},
     "output_type": "execute_result"
    }
   ],
   "source": [
    "#displays details of each review#\n",
    "subset.head"
   ]
  },
  {
   "cell_type": "code",
   "execution_count": 13,
   "metadata": {},
   "outputs": [],
   "source": [
    "#assigns x and y to text and stars#\n",
    "x = subset['text']\n",
    "y = subset['stars']"
   ]
  },
  {
   "cell_type": "code",
   "execution_count": 14,
   "metadata": {},
   "outputs": [
    {
     "data": {
      "text/plain": [
       "'Total bill for this horrible service? Over $8Gs. These crooks actually had the nerve to charge us $69 for 3 pills. I checked online the pills can be had for 19 cents EACH! Avoid Hospital ERs at all costs.'"
      ]
     },
     "execution_count": 14,
     "metadata": {},
     "output_type": "execute_result"
    }
   ],
   "source": [
    "#example of text for a review#\n",
    "x[0]"
   ]
  },
  {
   "cell_type": "code",
   "execution_count": 15,
   "metadata": {},
   "outputs": [
    {
     "data": {
      "text/plain": [
       "1    5\n",
       "2    5\n",
       "3    5\n",
       "4    1\n",
       "5    4\n",
       "6    3\n",
       "7    1\n",
       "8    2\n",
       "9    3\n",
       "Name: stars, dtype: int64"
      ]
     },
     "execution_count": 15,
     "metadata": {},
     "output_type": "execute_result"
    }
   ],
   "source": [
    "#example of stars for a range of reviews#\n",
    "y[1:10]"
   ]
  },
  {
   "cell_type": "code",
   "execution_count": 16,
   "metadata": {},
   "outputs": [
    {
     "name": "stdout",
     "output_type": "stream",
     "text": [
      "<class 'pandas.core.frame.DataFrame'>\n",
      "RangeIndex: 1000 entries, 0 to 999\n",
      "Data columns (total 9 columns):\n",
      "business_id    1000 non-null object\n",
      "cool           1000 non-null int64\n",
      "date           1000 non-null datetime64[ns]\n",
      "funny          1000 non-null int64\n",
      "review_id      1000 non-null object\n",
      "stars          1000 non-null int64\n",
      "text           1000 non-null object\n",
      "useful         1000 non-null int64\n",
      "user_id        1000 non-null object\n",
      "dtypes: datetime64[ns](1), int64(4), object(4)\n",
      "memory usage: 70.4+ KB\n"
     ]
    }
   ],
   "source": [
    "subset.info()"
   ]
  },
  {
   "cell_type": "code",
   "execution_count": 17,
   "metadata": {},
   "outputs": [
    {
     "data": {
      "text/html": [
       "<div>\n",
       "<style scoped>\n",
       "    .dataframe tbody tr th:only-of-type {\n",
       "        vertical-align: middle;\n",
       "    }\n",
       "\n",
       "    .dataframe tbody tr th {\n",
       "        vertical-align: top;\n",
       "    }\n",
       "\n",
       "    .dataframe thead th {\n",
       "        text-align: right;\n",
       "    }\n",
       "</style>\n",
       "<table border=\"1\" class=\"dataframe\">\n",
       "  <thead>\n",
       "    <tr style=\"text-align: right;\">\n",
       "      <th></th>\n",
       "      <th>cool</th>\n",
       "      <th>funny</th>\n",
       "      <th>stars</th>\n",
       "      <th>useful</th>\n",
       "    </tr>\n",
       "  </thead>\n",
       "  <tbody>\n",
       "    <tr>\n",
       "      <th>count</th>\n",
       "      <td>1000.000000</td>\n",
       "      <td>1000.000000</td>\n",
       "      <td>1000.000000</td>\n",
       "      <td>1000.000000</td>\n",
       "    </tr>\n",
       "    <tr>\n",
       "      <th>mean</th>\n",
       "      <td>0.524000</td>\n",
       "      <td>0.452000</td>\n",
       "      <td>3.654000</td>\n",
       "      <td>1.271000</td>\n",
       "    </tr>\n",
       "    <tr>\n",
       "      <th>std</th>\n",
       "      <td>1.384681</td>\n",
       "      <td>1.268584</td>\n",
       "      <td>1.469845</td>\n",
       "      <td>2.380594</td>\n",
       "    </tr>\n",
       "    <tr>\n",
       "      <th>min</th>\n",
       "      <td>0.000000</td>\n",
       "      <td>0.000000</td>\n",
       "      <td>1.000000</td>\n",
       "      <td>0.000000</td>\n",
       "    </tr>\n",
       "    <tr>\n",
       "      <th>25%</th>\n",
       "      <td>0.000000</td>\n",
       "      <td>0.000000</td>\n",
       "      <td>3.000000</td>\n",
       "      <td>0.000000</td>\n",
       "    </tr>\n",
       "    <tr>\n",
       "      <th>50%</th>\n",
       "      <td>0.000000</td>\n",
       "      <td>0.000000</td>\n",
       "      <td>4.000000</td>\n",
       "      <td>0.000000</td>\n",
       "    </tr>\n",
       "    <tr>\n",
       "      <th>75%</th>\n",
       "      <td>1.000000</td>\n",
       "      <td>0.000000</td>\n",
       "      <td>5.000000</td>\n",
       "      <td>1.000000</td>\n",
       "    </tr>\n",
       "    <tr>\n",
       "      <th>max</th>\n",
       "      <td>15.000000</td>\n",
       "      <td>14.000000</td>\n",
       "      <td>5.000000</td>\n",
       "      <td>23.000000</td>\n",
       "    </tr>\n",
       "  </tbody>\n",
       "</table>\n",
       "</div>"
      ],
      "text/plain": [
       "              cool        funny        stars       useful\n",
       "count  1000.000000  1000.000000  1000.000000  1000.000000\n",
       "mean      0.524000     0.452000     3.654000     1.271000\n",
       "std       1.384681     1.268584     1.469845     2.380594\n",
       "min       0.000000     0.000000     1.000000     0.000000\n",
       "25%       0.000000     0.000000     3.000000     0.000000\n",
       "50%       0.000000     0.000000     4.000000     0.000000\n",
       "75%       1.000000     0.000000     5.000000     1.000000\n",
       "max      15.000000    14.000000     5.000000    23.000000"
      ]
     },
     "execution_count": 17,
     "metadata": {},
     "output_type": "execute_result"
    }
   ],
   "source": [
    "subset.describe()"
   ]
  },
  {
   "cell_type": "code",
   "execution_count": 20,
   "metadata": {},
   "outputs": [],
   "source": []
  },
  {
   "cell_type": "code",
   "execution_count": null,
   "metadata": {},
   "outputs": [],
   "source": []
  }
 ],
 "metadata": {
  "kernelspec": {
   "display_name": "Python 3",
   "language": "python",
   "name": "python3"
  },
  "language_info": {
   "codemirror_mode": {
    "name": "ipython",
    "version": 3
   },
   "file_extension": ".py",
   "mimetype": "text/x-python",
   "name": "python",
   "nbconvert_exporter": "python",
   "pygments_lexer": "ipython3",
   "version": "3.7.3"
  }
 },
 "nbformat": 4,
 "nbformat_minor": 2
}
